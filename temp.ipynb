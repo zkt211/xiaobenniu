{
 "cells": [
  {
   "cell_type": "markdown",
   "metadata": {},
   "source": [
    "##### b) 不可变数据类"
   ]
  },
  {
   "cell_type": "code",
   "execution_count": null,
   "metadata": {},
   "outputs": [],
   "source": [
    "@dataclass(frozen=True)\n",
    "class APICredentials:\n",
    "    api_key: str\n",
    "    api_secret: str\n",
    "    \n",
    "# 创建后无法修改\n",
    "credentials = APICredentials(\"test_key\", \"test_secret\")\n",
    "try:\n",
    "    credentials.api_key = \"new_key\"  # 将引发异常\n",
    "except dataclasses.FrozenInstanceError:\n",
    "    print(\"无法修改不可变数据类的属性\")"
   ]
  },
  {
   "cell_type": "markdown",
   "metadata": {},
   "source": [
    "##### c) 继承与组合"
   ]
  },
  {
   "cell_type": "code",
   "execution_count": null,
   "metadata": {},
   "outputs": [],
   "source": [
    "@dataclass\n",
    "class BaseTestCase:\n",
    "    case_id: str\n",
    "    name: str\n",
    "    method: str\n",
    "    \n",
    "@dataclass\n",
    "class KYCTestCase(BaseTestCase):\n",
    "    api_url: str\n",
    "    body: Dict[str, Any]\n",
    "    headers: Optional[Dict[str, str]] = None\n",
    "    params: Optional[Dict[str, str]] = None\n",
    "    \n",
    "# 使用继承的数据类\n",
    "test_case = KYCTestCase(\n",
    "    case_id=\"KYC_001\",\n",
    "    name=\"客户身份验证测试\",\n",
    "    method=\"POST\",\n",
    "    api_url=\"/verify\",\n",
    "    body={\n",
    "        \"customer_id\": \"KYC-12345\",\n",
    "        \"document_type\": \"passport\"\n",
    "    }\n",
    ")"
   ]
  },
  {
   "cell_type": "markdown",
   "metadata": {},
   "source": [
    "#### 3. 数据验证与转换\n",
    "\n",
    "##### a) 类型检查"
   ]
  },
  {
   "cell_type": "code",
   "execution_count": null,
   "metadata": {},
   "outputs": [],
   "source": [
    "from dataclasses import dataclass\n",
    "from typing import Union, List\n",
    "import datetime\n",
    "\n",
    "@dataclass\n",
    "class CustomerDocument:\n",
    "    doc_type: str\n",
    "    doc_number: str\n",
    "    issue_date: datetime.date\n",
    "    expiry_date: datetime.date\n",
    "    \n",
    "    def __post_init__(self):\n",
    "        \"\"\"验证文档类型\"\"\"\n",
    "        valid_types = [\"passport\", \"id_card\", \"driver_license\"]\n",
    "        if self.doc_type not in valid_types:\n",
    "            raise ValueError(f\"无效的证件类型: {self.doc_type}\")\n",
    "        \n",
    "        # 验证日期\n",
    "        if self.expiry_date <= self.issue_date:\n",
    "            raise ValueError(\"过期日期必须晚于签发日期\")\n",
    "\n",
    "# 使用示例\n",
    "try:\n",
    "    doc = CustomerDocument(\n",
    "        doc_type=\"passport\",\n",
    "        doc_number=\"P12345678\",\n",
    "        issue_date=datetime.date(2020, 1, 1),\n",
    "        expiry_date=datetime.date(2030, 1, 1)\n",
    "    )\n",
    "except ValueError as e:\n",
    "    print(f\"验证错误: {e}\")"
   ]
  },
  {
   "cell_type": "markdown",
   "metadata": {},
   "source": [
    "##### b) 数据转换"
   ]
  },
  {
   "cell_type": "code",
   "execution_count": null,
   "metadata": {},
   "outputs": [],
   "source": [
    "from dataclasses import dataclass, asdict, astuple\n",
    "from typing import Dict\n",
    "\n",
    "@dataclass\n",
    "class APIResponse:\n",
    "    status_code: int\n",
    "    message: str\n",
    "    data: Dict[str, Any]\n",
    "    \n",
    "    def to_dict(self) -> Dict[str, Any]:\n",
    "        \"\"\"转换为字典\"\"\"\n",
    "        return asdict(self)\n",
    "    \n",
    "    @classmethod\n",
    "    def from_dict(cls, data: Dict[str, Any]) -> 'APIResponse':\n",
    "        \"\"\"从字典创建实例\"\"\"\n",
    "        return cls(**data)\n",
    "\n",
    "# 使用示例\n",
    "response = APIResponse(\n",
    "    status_code=200,\n",
    "    message=\"验证成功\",\n",
    "    data={\"customer_id\": \"KYC-12345\", \"status\": \"verified\"}\n",
    ")\n",
    "\n",
    "# 转换为字典\n",
    "response_dict = response.to_dict()\n",
    "print(response_dict)\n",
    "\n",
    "# 从字典创建实例\n",
    "new_response = APIResponse.from_dict(response_dict)\n",
    "print(new_response)"
   ]
  },
  {
   "cell_type": "markdown",
   "metadata": {},
   "source": [
    "#### 4. 实际应用：配置管理\n",
    "\n",
    "让我们看看如何在KYC测试框架中使用数据类来管理配置："
   ]
  },
  {
   "cell_type": "code",
   "execution_count": null,
   "metadata": {},
   "outputs": [],
   "source": [
    "from dataclasses import dataclass\n",
    "from typing import Dict, Optional, List\n",
    "import yaml\n",
    "from pathlib import Path\n",
    "\n",
    "@dataclass\n",
    "class TestEnvironment:\n",
    "    name: str\n",
    "    base_url: str\n",
    "    timeout: int = 30\n",
    "    verify_ssl: bool = True\n",
    "    headers: Optional[Dict[str, str]] = None\n",
    "\n",
    "@dataclass\n",
    "class TestCase:\n",
    "    case_id: str\n",
    "    name: str\n",
    "    method: str\n",
    "    api_url: str\n",
    "    body: Optional[Dict[str, Any]] = None\n",
    "    headers: Optional[Dict[str, str]] = None\n",
    "    params: Optional[Dict[str, str]] = None\n",
    "    expected_status: int = 200\n",
    "\n",
    "@dataclass\n",
    "class TestConfig:\n",
    "    environments: Dict[str, TestEnvironment]\n",
    "    test_cases: Dict[str, TestCase]\n",
    "    default_environment: str\n",
    "    \n",
    "    @classmethod\n",
    "    def from_yaml(cls, yaml_path: Path) -> 'TestConfig':\n",
    "        \"\"\"从YAML文件加载配置\"\"\"\n",
    "        with open(yaml_path, 'r', encoding='utf-8') as f:\n",
    "            data = yaml.safe_load(f)\n",
    "            \n",
    "        # 转换环境配置\n",
    "        environments = {\n",
    "            name: TestEnvironment(**env_data)\n",
    "            for name, env_data in data['environments'].items()\n",
    "        }\n",
    "        \n",
    "        # 转换测试用例\n",
    "        test_cases = {\n",
    "            case_id: TestCase(case_id=case_id, **case_data)\n",
    "            for case_id, case_data in data['test_cases'].items()\n",
    "        }\n",
    "        \n",
    "        return cls(\n",
    "            environments=environments,\n",
    "            test_cases=test_cases,\n",
    "            default_environment=data['default_environment']\n",
    "        )\n",
    "\n",
    "# 使用示例\n",
    "config = TestConfig.from_yaml(Path('test_config.yaml'))\n",
    "print(f\"默认环境: {config.default_environment}\")\n",
    "print(f\"测试用例数量: {len(config.test_cases)}\")"
   ]
  },
  {
   "cell_type": "markdown",
   "metadata": {},
   "source": [
    "#### 5. 最佳实践\n",
    "\n",
    "1. **类型提示**：始终使用类型提示，提高代码可读性和IDE支持\n",
    "2. **默认值**：为可选字段提供合理的默认值\n",
    "3. **验证逻辑**：在 `__post_init__` 中实现数据验证\n",
    "4. **不可变性**：对于配置类，考虑使用 `frozen=True` 确保不可变\n",
    "5. **文档字符串**：为数据类和字段添加清晰的文档说明\n",
    "6. **转换方法**：实现与其他数据格式（如字典、YAML）的转换方法\n",
    "7. **继承使用**：合理使用继承来复用共同属性\n",
    "8. **组合优于继承**：在适当的情况下使用组合而不是继承"
   ]
  },
  {
   "cell_type": "markdown",
   "metadata": {},
   "source": [
    "#### 6. 练习题\n",
    "\n",
    "1. 实现一个 `RequestBuilder` 数据类，用于构建HTTP请求\n",
    "2. 为 `TestCase` 数据类添加结果验证功能\n",
    "3. 实现配置的版本控制功能\n",
    "4. 添加敏感信息（如API密钥）的加密处理\n",
    "5. 实现测试用例的导入导出功能"
   ]
  },
  {
   "cell_type": "markdown",
   "metadata": {},
   "source": [
    "#### 7. 小结\n",
    "\n",
    "在本节中，我们学习了Python数据类的基本概念和使用方法。数据类为我们提供了一种简洁、类型安全的方式来处理配置数据，特别适合用于测试框架的配置管理。通过使用数据类，我们可以：\n",
    "\n",
    "1. 减少样板代码，提高代码可读性\n",
    "2. 利用类型提示进行静态类型检查\n",
    "3. 实现数据验证和转换\n",
    "4. 确保配置数据的一致性和可靠性\n",
    "\n",
    "在下一节中，我们将学习如何将YAML配置和数据类结合使用，实现一个完整的配置管理模块。"
   ]
  }
 ],
 "metadata": {
  "kernelspec": {
   "display_name": "Python 3",
   "language": "python",
   "name": "python3"
  },
  "language_info": {
   "codemirror_mode": {
    "name": "ipython",
    "version": 3
   },
   "file_extension": ".py",
   "mimetype": "text/x-python",
   "name": "python",
   "nbconvert_exporter": "python",
   "pygments_lexer": "ipython3",
   "version": "3.11.9"
  }
 },
 "nbformat": 4,
 "nbformat_minor": 2
}